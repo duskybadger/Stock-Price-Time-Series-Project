{
 "cells": [
  {
   "cell_type": "code",
   "execution_count": 2,
   "metadata": {},
   "outputs": [
    {
     "name": "stdout",
     "output_type": "stream",
     "text": [
      "Requirement already satisfied: textblob in c:\\users\\harol\\anaconda3\\lib\\site-packages (0.15.3)\n",
      "Requirement already satisfied: nltk>=3.1 in c:\\users\\harol\\anaconda3\\lib\\site-packages (from textblob) (3.5)\n",
      "Requirement already satisfied: tqdm in c:\\users\\harol\\anaconda3\\lib\\site-packages (from nltk>=3.1->textblob) (4.50.2)\n",
      "Requirement already satisfied: click in c:\\users\\harol\\anaconda3\\lib\\site-packages (from nltk>=3.1->textblob) (7.1.2)\n",
      "Requirement already satisfied: regex in c:\\users\\harol\\anaconda3\\lib\\site-packages (from nltk>=3.1->textblob) (2020.10.15)\n",
      "Requirement already satisfied: joblib in c:\\users\\harol\\anaconda3\\lib\\site-packages (from nltk>=3.1->textblob) (0.17.0)\n",
      "Note: you may need to restart the kernel to use updated packages.\n"
     ]
    }
   ],
   "source": [
    "pip install textblob"
   ]
  },
  {
   "cell_type": "code",
   "execution_count": 3,
   "metadata": {},
   "outputs": [],
   "source": [
    "import pandas as pd\n",
    "import re\n",
    "from textblob import TextBlob\n",
    "import matplotlib.pyplot as plt\n",
    "import seaborn as sns\n",
    "from datetime import datetime, timedelta"
   ]
  },
  {
   "cell_type": "code",
   "execution_count": 4,
   "metadata": {},
   "outputs": [],
   "source": [
    "import os"
   ]
  },
  {
   "cell_type": "code",
   "execution_count": 5,
   "metadata": {},
   "outputs": [
    {
     "data": {
      "text/plain": [
       "'C:\\\\Users\\\\harol\\\\mypython\\\\Predictive Analytics\\\\Sentiment Analysis Project'"
      ]
     },
     "execution_count": 5,
     "metadata": {},
     "output_type": "execute_result"
    }
   ],
   "source": [
    "os.getcwd()"
   ]
  },
  {
   "cell_type": "code",
   "execution_count": 6,
   "metadata": {},
   "outputs": [],
   "source": [
    "df_ATT = pd.read_csv('att2.csv', names = ['timestamp','tweet'],encoding='utf-8')"
   ]
  },
  {
   "cell_type": "code",
   "execution_count": 7,
   "metadata": {},
   "outputs": [
    {
     "name": "stdout",
     "output_type": "stream",
     "text": [
      "<class 'pandas.core.frame.DataFrame'>\n",
      "RangeIndex: 3570 entries, 0 to 3569\n",
      "Data columns (total 2 columns):\n",
      " #   Column     Non-Null Count  Dtype \n",
      "---  ------     --------------  ----- \n",
      " 0   timestamp  3570 non-null   object\n",
      " 1   tweet      3570 non-null   object\n",
      "dtypes: object(2)\n",
      "memory usage: 55.9+ KB\n"
     ]
    }
   ],
   "source": [
    "df_ATT.info()"
   ]
  },
  {
   "cell_type": "code",
   "execution_count": 8,
   "metadata": {},
   "outputs": [
    {
     "data": {
      "text/plain": [
       "timestamp    3570\n",
       "tweet        3570\n",
       "dtype: int64"
      ]
     },
     "execution_count": 8,
     "metadata": {},
     "output_type": "execute_result"
    }
   ],
   "source": [
    "df_ATT.count()"
   ]
  },
  {
   "cell_type": "code",
   "execution_count": 9,
   "metadata": {},
   "outputs": [],
   "source": [
    "df_ATT.timestamp = pd.to_datetime(df_ATT.timestamp)"
   ]
  },
  {
   "cell_type": "code",
   "execution_count": 10,
   "metadata": {},
   "outputs": [],
   "source": [
    "df_ATT.tweet = df_ATT.tweet.str[2:]"
   ]
  },
  {
   "cell_type": "code",
   "execution_count": 11,
   "metadata": {},
   "outputs": [
    {
     "data": {
      "text/html": [
       "<div>\n",
       "<style scoped>\n",
       "    .dataframe tbody tr th:only-of-type {\n",
       "        vertical-align: middle;\n",
       "    }\n",
       "\n",
       "    .dataframe tbody tr th {\n",
       "        vertical-align: top;\n",
       "    }\n",
       "\n",
       "    .dataframe thead th {\n",
       "        text-align: right;\n",
       "    }\n",
       "</style>\n",
       "<table border=\"1\" class=\"dataframe\">\n",
       "  <thead>\n",
       "    <tr style=\"text-align: right;\">\n",
       "      <th></th>\n",
       "      <th>timestamp</th>\n",
       "      <th>tweet</th>\n",
       "    </tr>\n",
       "  </thead>\n",
       "  <tbody>\n",
       "    <tr>\n",
       "      <th>0</th>\n",
       "      <td>2021-05-26 00:46:00</td>\n",
       "      <td>[2105.11478] Rikkert Frederix, Ioannis Tsiniko...</td>\n",
       "    </tr>\n",
       "    <tr>\n",
       "      <th>1</th>\n",
       "      <td>2021-05-26 00:36:33</td>\n",
       "      <td>@stock_rabbi @DontFeedBear $T not as good afte...</td>\n",
       "    </tr>\n",
       "    <tr>\n",
       "      <th>2</th>\n",
       "      <td>2021-05-26 00:26:16</td>\n",
       "      <td>AT&amp;amp;T stock review\\n\\nhttps://t.co/PgKNm1QC...</td>\n",
       "    </tr>\n",
       "    <tr>\n",
       "      <th>3</th>\n",
       "      <td>2021-05-26 00:24:46</td>\n",
       "      <td>$T regretting the move to entertainment. $AMZN...</td>\n",
       "    </tr>\n",
       "    <tr>\n",
       "      <th>4</th>\n",
       "      <td>2021-05-26 00:15:07</td>\n",
       "      <td>@QTRResearch Look into $BEST inc\\xf0\\x9f\\x91\\x...</td>\n",
       "    </tr>\n",
       "  </tbody>\n",
       "</table>\n",
       "</div>"
      ],
      "text/plain": [
       "            timestamp                                              tweet\n",
       "0 2021-05-26 00:46:00  [2105.11478] Rikkert Frederix, Ioannis Tsiniko...\n",
       "1 2021-05-26 00:36:33  @stock_rabbi @DontFeedBear $T not as good afte...\n",
       "2 2021-05-26 00:26:16  AT&amp;T stock review\\n\\nhttps://t.co/PgKNm1QC...\n",
       "3 2021-05-26 00:24:46  $T regretting the move to entertainment. $AMZN...\n",
       "4 2021-05-26 00:15:07  @QTRResearch Look into $BEST inc\\xf0\\x9f\\x91\\x..."
      ]
     },
     "execution_count": 11,
     "metadata": {},
     "output_type": "execute_result"
    }
   ],
   "source": [
    "df_ATT.head()"
   ]
  },
  {
   "cell_type": "code",
   "execution_count": 12,
   "metadata": {},
   "outputs": [],
   "source": [
    "df_ATT.tweet = df_ATT.tweet.str[:len(df_ATT.tweet)]"
   ]
  },
  {
   "cell_type": "code",
   "execution_count": 13,
   "metadata": {},
   "outputs": [
    {
     "data": {
      "text/html": [
       "<div>\n",
       "<style scoped>\n",
       "    .dataframe tbody tr th:only-of-type {\n",
       "        vertical-align: middle;\n",
       "    }\n",
       "\n",
       "    .dataframe tbody tr th {\n",
       "        vertical-align: top;\n",
       "    }\n",
       "\n",
       "    .dataframe thead th {\n",
       "        text-align: right;\n",
       "    }\n",
       "</style>\n",
       "<table border=\"1\" class=\"dataframe\">\n",
       "  <thead>\n",
       "    <tr style=\"text-align: right;\">\n",
       "      <th></th>\n",
       "      <th>timestamp</th>\n",
       "      <th>tweet</th>\n",
       "    </tr>\n",
       "  </thead>\n",
       "  <tbody>\n",
       "    <tr>\n",
       "      <th>0</th>\n",
       "      <td>2021-05-26 00:46:00</td>\n",
       "      <td>[2105.11478] Rikkert Frederix, Ioannis Tsiniko...</td>\n",
       "    </tr>\n",
       "    <tr>\n",
       "      <th>1</th>\n",
       "      <td>2021-05-26 00:36:33</td>\n",
       "      <td>@stock_rabbi @DontFeedBear $T not as good afte...</td>\n",
       "    </tr>\n",
       "    <tr>\n",
       "      <th>2</th>\n",
       "      <td>2021-05-26 00:26:16</td>\n",
       "      <td>AT&amp;amp;T stock review\\n\\nhttps://t.co/PgKNm1QC...</td>\n",
       "    </tr>\n",
       "    <tr>\n",
       "      <th>3</th>\n",
       "      <td>2021-05-26 00:24:46</td>\n",
       "      <td>$T regretting the move to entertainment. $AMZN...</td>\n",
       "    </tr>\n",
       "    <tr>\n",
       "      <th>4</th>\n",
       "      <td>2021-05-26 00:15:07</td>\n",
       "      <td>@QTRResearch Look into $BEST inc\\xf0\\x9f\\x91\\x...</td>\n",
       "    </tr>\n",
       "  </tbody>\n",
       "</table>\n",
       "</div>"
      ],
      "text/plain": [
       "            timestamp                                              tweet\n",
       "0 2021-05-26 00:46:00  [2105.11478] Rikkert Frederix, Ioannis Tsiniko...\n",
       "1 2021-05-26 00:36:33  @stock_rabbi @DontFeedBear $T not as good afte...\n",
       "2 2021-05-26 00:26:16  AT&amp;T stock review\\n\\nhttps://t.co/PgKNm1QC...\n",
       "3 2021-05-26 00:24:46  $T regretting the move to entertainment. $AMZN...\n",
       "4 2021-05-26 00:15:07  @QTRResearch Look into $BEST inc\\xf0\\x9f\\x91\\x..."
      ]
     },
     "execution_count": 13,
     "metadata": {},
     "output_type": "execute_result"
    }
   ],
   "source": [
    "df_ATT.head()"
   ]
  },
  {
   "cell_type": "code",
   "execution_count": 14,
   "metadata": {},
   "outputs": [],
   "source": [
    "df_ATT = df_ATT.sort_values(by=['timestamp'])"
   ]
  },
  {
   "cell_type": "code",
   "execution_count": 15,
   "metadata": {},
   "outputs": [],
   "source": [
    "df_ATT = df_ATT.drop_duplicates(subset=['tweet'])"
   ]
  },
  {
   "cell_type": "code",
   "execution_count": 16,
   "metadata": {},
   "outputs": [],
   "source": [
    "df_ATT.timestamp = df_ATT.timestamp - timedelta(hours=4)"
   ]
  },
  {
   "cell_type": "code",
   "execution_count": 17,
   "metadata": {},
   "outputs": [
    {
     "data": {
      "text/html": [
       "<div>\n",
       "<style scoped>\n",
       "    .dataframe tbody tr th:only-of-type {\n",
       "        vertical-align: middle;\n",
       "    }\n",
       "\n",
       "    .dataframe tbody tr th {\n",
       "        vertical-align: top;\n",
       "    }\n",
       "\n",
       "    .dataframe thead th {\n",
       "        text-align: right;\n",
       "    }\n",
       "</style>\n",
       "<table border=\"1\" class=\"dataframe\">\n",
       "  <thead>\n",
       "    <tr style=\"text-align: right;\">\n",
       "      <th></th>\n",
       "      <th>timestamp</th>\n",
       "      <th>tweet</th>\n",
       "    </tr>\n",
       "  </thead>\n",
       "  <tbody>\n",
       "    <tr>\n",
       "      <th>3569</th>\n",
       "      <td>2021-05-18 07:45:30</td>\n",
       "      <td>$T $DISCA David Zaslav Will Stay On As Discove...</td>\n",
       "    </tr>\n",
       "    <tr>\n",
       "      <th>3568</th>\n",
       "      <td>2021-05-18 07:45:49</td>\n",
       "      <td>@JSreng8 @BillBrewsterSCG @Balsikafi I didn\\xe...</td>\n",
       "    </tr>\n",
       "    <tr>\n",
       "      <th>3567</th>\n",
       "      <td>2021-05-18 07:45:50</td>\n",
       "      <td>The more I read about this $T discovery deal t...</td>\n",
       "    </tr>\n",
       "    <tr>\n",
       "      <th>3566</th>\n",
       "      <td>2021-05-18 07:45:54</td>\n",
       "      <td>Today's Dark Pool Whisper Trade Results! Bigge...</td>\n",
       "    </tr>\n",
       "    <tr>\n",
       "      <th>3565</th>\n",
       "      <td>2021-05-18 07:46:50</td>\n",
       "      <td>$T  new alert at https://t.co/A7qrDarJHY  #sto...</td>\n",
       "    </tr>\n",
       "  </tbody>\n",
       "</table>\n",
       "</div>"
      ],
      "text/plain": [
       "               timestamp                                              tweet\n",
       "3569 2021-05-18 07:45:30  $T $DISCA David Zaslav Will Stay On As Discove...\n",
       "3568 2021-05-18 07:45:49  @JSreng8 @BillBrewsterSCG @Balsikafi I didn\\xe...\n",
       "3567 2021-05-18 07:45:50  The more I read about this $T discovery deal t...\n",
       "3566 2021-05-18 07:45:54  Today's Dark Pool Whisper Trade Results! Bigge...\n",
       "3565 2021-05-18 07:46:50  $T  new alert at https://t.co/A7qrDarJHY  #sto..."
      ]
     },
     "execution_count": 17,
     "metadata": {},
     "output_type": "execute_result"
    }
   ],
   "source": [
    "df_ATT.head()"
   ]
  },
  {
   "cell_type": "code",
   "execution_count": 18,
   "metadata": {},
   "outputs": [],
   "source": [
    "import nltk\n",
    "from nltk.corpus import stopwords\n",
    "from nltk.stem import PorterStemmer\n",
    "from textblob import TextBlob"
   ]
  },
  {
   "cell_type": "code",
   "execution_count": 19,
   "metadata": {},
   "outputs": [],
   "source": [
    "df_ATT['cleaned'] = df_ATT.tweet.astype(str)"
   ]
  },
  {
   "cell_type": "code",
   "execution_count": 20,
   "metadata": {},
   "outputs": [
    {
     "data": {
      "text/html": [
       "<div>\n",
       "<style scoped>\n",
       "    .dataframe tbody tr th:only-of-type {\n",
       "        vertical-align: middle;\n",
       "    }\n",
       "\n",
       "    .dataframe tbody tr th {\n",
       "        vertical-align: top;\n",
       "    }\n",
       "\n",
       "    .dataframe thead th {\n",
       "        text-align: right;\n",
       "    }\n",
       "</style>\n",
       "<table border=\"1\" class=\"dataframe\">\n",
       "  <thead>\n",
       "    <tr style=\"text-align: right;\">\n",
       "      <th></th>\n",
       "      <th>timestamp</th>\n",
       "      <th>tweet</th>\n",
       "      <th>cleaned</th>\n",
       "    </tr>\n",
       "  </thead>\n",
       "  <tbody>\n",
       "    <tr>\n",
       "      <th>3569</th>\n",
       "      <td>2021-05-18 07:45:30</td>\n",
       "      <td>$T $DISCA David Zaslav Will Stay On As Discove...</td>\n",
       "      <td>$T $DISCA David Zaslav Will Stay On As Discove...</td>\n",
       "    </tr>\n",
       "    <tr>\n",
       "      <th>3568</th>\n",
       "      <td>2021-05-18 07:45:49</td>\n",
       "      <td>@JSreng8 @BillBrewsterSCG @Balsikafi I didn\\xe...</td>\n",
       "      <td>@JSreng8 @BillBrewsterSCG @Balsikafi I didn\\xe...</td>\n",
       "    </tr>\n",
       "    <tr>\n",
       "      <th>3567</th>\n",
       "      <td>2021-05-18 07:45:50</td>\n",
       "      <td>The more I read about this $T discovery deal t...</td>\n",
       "      <td>The more I read about this $T discovery deal t...</td>\n",
       "    </tr>\n",
       "    <tr>\n",
       "      <th>3566</th>\n",
       "      <td>2021-05-18 07:45:54</td>\n",
       "      <td>Today's Dark Pool Whisper Trade Results! Bigge...</td>\n",
       "      <td>Today's Dark Pool Whisper Trade Results! Bigge...</td>\n",
       "    </tr>\n",
       "    <tr>\n",
       "      <th>3565</th>\n",
       "      <td>2021-05-18 07:46:50</td>\n",
       "      <td>$T  new alert at https://t.co/A7qrDarJHY  #sto...</td>\n",
       "      <td>$T  new alert at https://t.co/A7qrDarJHY  #sto...</td>\n",
       "    </tr>\n",
       "  </tbody>\n",
       "</table>\n",
       "</div>"
      ],
      "text/plain": [
       "               timestamp                                              tweet  \\\n",
       "3569 2021-05-18 07:45:30  $T $DISCA David Zaslav Will Stay On As Discove...   \n",
       "3568 2021-05-18 07:45:49  @JSreng8 @BillBrewsterSCG @Balsikafi I didn\\xe...   \n",
       "3567 2021-05-18 07:45:50  The more I read about this $T discovery deal t...   \n",
       "3566 2021-05-18 07:45:54  Today's Dark Pool Whisper Trade Results! Bigge...   \n",
       "3565 2021-05-18 07:46:50  $T  new alert at https://t.co/A7qrDarJHY  #sto...   \n",
       "\n",
       "                                                cleaned  \n",
       "3569  $T $DISCA David Zaslav Will Stay On As Discove...  \n",
       "3568  @JSreng8 @BillBrewsterSCG @Balsikafi I didn\\xe...  \n",
       "3567  The more I read about this $T discovery deal t...  \n",
       "3566  Today's Dark Pool Whisper Trade Results! Bigge...  \n",
       "3565  $T  new alert at https://t.co/A7qrDarJHY  #sto...  "
      ]
     },
     "execution_count": 20,
     "metadata": {},
     "output_type": "execute_result"
    }
   ],
   "source": [
    "df_ATT.head()"
   ]
  },
  {
   "cell_type": "code",
   "execution_count": 21,
   "metadata": {},
   "outputs": [
    {
     "name": "stdout",
     "output_type": "stream",
     "text": [
      "<class 'pandas.core.frame.DataFrame'>\n",
      "Int64Index: 3558 entries, 3569 to 0\n",
      "Data columns (total 3 columns):\n",
      " #   Column     Non-Null Count  Dtype         \n",
      "---  ------     --------------  -----         \n",
      " 0   timestamp  3558 non-null   datetime64[ns]\n",
      " 1   tweet      3558 non-null   object        \n",
      " 2   cleaned    3558 non-null   object        \n",
      "dtypes: datetime64[ns](1), object(2)\n",
      "memory usage: 111.2+ KB\n"
     ]
    }
   ],
   "source": [
    "df_ATT.info()"
   ]
  },
  {
   "cell_type": "code",
   "execution_count": 22,
   "metadata": {},
   "outputs": [],
   "source": [
    "df_ATT.cleaned = df_ATT.cleaned.apply(lambda x: \" \".join(x.lower() for x in x.split()))"
   ]
  },
  {
   "cell_type": "code",
   "execution_count": 23,
   "metadata": {},
   "outputs": [
    {
     "data": {
      "text/html": [
       "<div>\n",
       "<style scoped>\n",
       "    .dataframe tbody tr th:only-of-type {\n",
       "        vertical-align: middle;\n",
       "    }\n",
       "\n",
       "    .dataframe tbody tr th {\n",
       "        vertical-align: top;\n",
       "    }\n",
       "\n",
       "    .dataframe thead th {\n",
       "        text-align: right;\n",
       "    }\n",
       "</style>\n",
       "<table border=\"1\" class=\"dataframe\">\n",
       "  <thead>\n",
       "    <tr style=\"text-align: right;\">\n",
       "      <th></th>\n",
       "      <th>timestamp</th>\n",
       "      <th>tweet</th>\n",
       "      <th>cleaned</th>\n",
       "    </tr>\n",
       "  </thead>\n",
       "  <tbody>\n",
       "    <tr>\n",
       "      <th>3569</th>\n",
       "      <td>2021-05-18 07:45:30</td>\n",
       "      <td>$T $DISCA David Zaslav Will Stay On As Discove...</td>\n",
       "      <td>$t $disca david zaslav will stay on as discove...</td>\n",
       "    </tr>\n",
       "    <tr>\n",
       "      <th>3568</th>\n",
       "      <td>2021-05-18 07:45:49</td>\n",
       "      <td>@JSreng8 @BillBrewsterSCG @Balsikafi I didn\\xe...</td>\n",
       "      <td>@jsreng8 @billbrewsterscg @balsikafi i didn\\xe...</td>\n",
       "    </tr>\n",
       "    <tr>\n",
       "      <th>3567</th>\n",
       "      <td>2021-05-18 07:45:50</td>\n",
       "      <td>The more I read about this $T discovery deal t...</td>\n",
       "      <td>the more i read about this $t discovery deal t...</td>\n",
       "    </tr>\n",
       "    <tr>\n",
       "      <th>3566</th>\n",
       "      <td>2021-05-18 07:45:54</td>\n",
       "      <td>Today's Dark Pool Whisper Trade Results! Bigge...</td>\n",
       "      <td>today's dark pool whisper trade results! bigge...</td>\n",
       "    </tr>\n",
       "    <tr>\n",
       "      <th>3565</th>\n",
       "      <td>2021-05-18 07:46:50</td>\n",
       "      <td>$T  new alert at https://t.co/A7qrDarJHY  #sto...</td>\n",
       "      <td>$t new alert at https://t.co/a7qrdarjhy #stock...</td>\n",
       "    </tr>\n",
       "  </tbody>\n",
       "</table>\n",
       "</div>"
      ],
      "text/plain": [
       "               timestamp                                              tweet  \\\n",
       "3569 2021-05-18 07:45:30  $T $DISCA David Zaslav Will Stay On As Discove...   \n",
       "3568 2021-05-18 07:45:49  @JSreng8 @BillBrewsterSCG @Balsikafi I didn\\xe...   \n",
       "3567 2021-05-18 07:45:50  The more I read about this $T discovery deal t...   \n",
       "3566 2021-05-18 07:45:54  Today's Dark Pool Whisper Trade Results! Bigge...   \n",
       "3565 2021-05-18 07:46:50  $T  new alert at https://t.co/A7qrDarJHY  #sto...   \n",
       "\n",
       "                                                cleaned  \n",
       "3569  $t $disca david zaslav will stay on as discove...  \n",
       "3568  @jsreng8 @billbrewsterscg @balsikafi i didn\\xe...  \n",
       "3567  the more i read about this $t discovery deal t...  \n",
       "3566  today's dark pool whisper trade results! bigge...  \n",
       "3565  $t new alert at https://t.co/a7qrdarjhy #stock...  "
      ]
     },
     "execution_count": 23,
     "metadata": {},
     "output_type": "execute_result"
    }
   ],
   "source": [
    "df_ATT.head()"
   ]
  },
  {
   "cell_type": "code",
   "execution_count": 24,
   "metadata": {},
   "outputs": [],
   "source": [
    "df_ATT.cleaned = df_ATT.cleaned.apply(lambda x: re.sub(\"@[A-Za-z0-9]+\",\"\", x))"
   ]
  },
  {
   "cell_type": "code",
   "execution_count": 25,
   "metadata": {},
   "outputs": [
    {
     "data": {
      "text/html": [
       "<div>\n",
       "<style scoped>\n",
       "    .dataframe tbody tr th:only-of-type {\n",
       "        vertical-align: middle;\n",
       "    }\n",
       "\n",
       "    .dataframe tbody tr th {\n",
       "        vertical-align: top;\n",
       "    }\n",
       "\n",
       "    .dataframe thead th {\n",
       "        text-align: right;\n",
       "    }\n",
       "</style>\n",
       "<table border=\"1\" class=\"dataframe\">\n",
       "  <thead>\n",
       "    <tr style=\"text-align: right;\">\n",
       "      <th></th>\n",
       "      <th>timestamp</th>\n",
       "      <th>tweet</th>\n",
       "      <th>cleaned</th>\n",
       "    </tr>\n",
       "  </thead>\n",
       "  <tbody>\n",
       "    <tr>\n",
       "      <th>3569</th>\n",
       "      <td>2021-05-18 07:45:30</td>\n",
       "      <td>$T $DISCA David Zaslav Will Stay On As Discove...</td>\n",
       "      <td>$t $disca david zaslav will stay on as discove...</td>\n",
       "    </tr>\n",
       "    <tr>\n",
       "      <th>3568</th>\n",
       "      <td>2021-05-18 07:45:49</td>\n",
       "      <td>@JSreng8 @BillBrewsterSCG @Balsikafi I didn\\xe...</td>\n",
       "      <td>i didn\\xe2\\x80\\x99t realize when people ref...</td>\n",
       "    </tr>\n",
       "    <tr>\n",
       "      <th>3567</th>\n",
       "      <td>2021-05-18 07:45:50</td>\n",
       "      <td>The more I read about this $T discovery deal t...</td>\n",
       "      <td>the more i read about this $t discovery deal t...</td>\n",
       "    </tr>\n",
       "    <tr>\n",
       "      <th>3566</th>\n",
       "      <td>2021-05-18 07:45:54</td>\n",
       "      <td>Today's Dark Pool Whisper Trade Results! Bigge...</td>\n",
       "      <td>today's dark pool whisper trade results! bigge...</td>\n",
       "    </tr>\n",
       "    <tr>\n",
       "      <th>3565</th>\n",
       "      <td>2021-05-18 07:46:50</td>\n",
       "      <td>$T  new alert at https://t.co/A7qrDarJHY  #sto...</td>\n",
       "      <td>$t new alert at https://t.co/a7qrdarjhy #stock...</td>\n",
       "    </tr>\n",
       "  </tbody>\n",
       "</table>\n",
       "</div>"
      ],
      "text/plain": [
       "               timestamp                                              tweet  \\\n",
       "3569 2021-05-18 07:45:30  $T $DISCA David Zaslav Will Stay On As Discove...   \n",
       "3568 2021-05-18 07:45:49  @JSreng8 @BillBrewsterSCG @Balsikafi I didn\\xe...   \n",
       "3567 2021-05-18 07:45:50  The more I read about this $T discovery deal t...   \n",
       "3566 2021-05-18 07:45:54  Today's Dark Pool Whisper Trade Results! Bigge...   \n",
       "3565 2021-05-18 07:46:50  $T  new alert at https://t.co/A7qrDarJHY  #sto...   \n",
       "\n",
       "                                                cleaned  \n",
       "3569  $t $disca david zaslav will stay on as discove...  \n",
       "3568     i didn\\xe2\\x80\\x99t realize when people ref...  \n",
       "3567  the more i read about this $t discovery deal t...  \n",
       "3566  today's dark pool whisper trade results! bigge...  \n",
       "3565  $t new alert at https://t.co/a7qrdarjhy #stock...  "
      ]
     },
     "execution_count": 25,
     "metadata": {},
     "output_type": "execute_result"
    }
   ],
   "source": [
    "df_ATT.head()"
   ]
  },
  {
   "cell_type": "code",
   "execution_count": 26,
   "metadata": {},
   "outputs": [],
   "source": [
    "stop = stopwords.words('english')\n",
    "df_ATT.cleaned = df_ATT.cleaned.apply(lambda x: \" \".join(x for x in x.split() if x not in stop))"
   ]
  },
  {
   "cell_type": "code",
   "execution_count": 27,
   "metadata": {},
   "outputs": [],
   "source": [
    "stemmer = PorterStemmer()"
   ]
  },
  {
   "cell_type": "code",
   "execution_count": 28,
   "metadata": {},
   "outputs": [],
   "source": [
    "df_ATT.cleaned = df_ATT.cleaned.apply(lambda x: \" \".join([stemmer.stem(word) for word in x.split()]))"
   ]
  },
  {
   "cell_type": "code",
   "execution_count": 29,
   "metadata": {},
   "outputs": [
    {
     "data": {
      "text/html": [
       "<div>\n",
       "<style scoped>\n",
       "    .dataframe tbody tr th:only-of-type {\n",
       "        vertical-align: middle;\n",
       "    }\n",
       "\n",
       "    .dataframe tbody tr th {\n",
       "        vertical-align: top;\n",
       "    }\n",
       "\n",
       "    .dataframe thead th {\n",
       "        text-align: right;\n",
       "    }\n",
       "</style>\n",
       "<table border=\"1\" class=\"dataframe\">\n",
       "  <thead>\n",
       "    <tr style=\"text-align: right;\">\n",
       "      <th></th>\n",
       "      <th>timestamp</th>\n",
       "      <th>tweet</th>\n",
       "      <th>cleaned</th>\n",
       "    </tr>\n",
       "  </thead>\n",
       "  <tbody>\n",
       "    <tr>\n",
       "      <th>3569</th>\n",
       "      <td>2021-05-18 07:45:30</td>\n",
       "      <td>$T $DISCA David Zaslav Will Stay On As Discove...</td>\n",
       "      <td>$t $disca david zaslav stay discoveri ceo leas...</td>\n",
       "    </tr>\n",
       "    <tr>\n",
       "      <th>3568</th>\n",
       "      <td>2021-05-18 07:45:49</td>\n",
       "      <td>@JSreng8 @BillBrewsterSCG @Balsikafi I didn\\xe...</td>\n",
       "      <td>didn\\xe2\\x80\\x99t realiz peopl refer $t safe i...</td>\n",
       "    </tr>\n",
       "    <tr>\n",
       "      <th>3567</th>\n",
       "      <td>2021-05-18 07:45:50</td>\n",
       "      <td>The more I read about this $T discovery deal t...</td>\n",
       "      <td>read $t discoveri deal i\\xe2\\x80\\x99m dumbfoun...</td>\n",
       "    </tr>\n",
       "    <tr>\n",
       "      <th>3566</th>\n",
       "      <td>2021-05-18 07:45:54</td>\n",
       "      <td>Today's Dark Pool Whisper Trade Results! Bigge...</td>\n",
       "      <td>today' dark pool whisper trade results! bigges...</td>\n",
       "    </tr>\n",
       "    <tr>\n",
       "      <th>3565</th>\n",
       "      <td>2021-05-18 07:46:50</td>\n",
       "      <td>$T  new alert at https://t.co/A7qrDarJHY  #sto...</td>\n",
       "      <td>$t new alert https://t.co/a7qrdarjhi #stock #d...</td>\n",
       "    </tr>\n",
       "  </tbody>\n",
       "</table>\n",
       "</div>"
      ],
      "text/plain": [
       "               timestamp                                              tweet  \\\n",
       "3569 2021-05-18 07:45:30  $T $DISCA David Zaslav Will Stay On As Discove...   \n",
       "3568 2021-05-18 07:45:49  @JSreng8 @BillBrewsterSCG @Balsikafi I didn\\xe...   \n",
       "3567 2021-05-18 07:45:50  The more I read about this $T discovery deal t...   \n",
       "3566 2021-05-18 07:45:54  Today's Dark Pool Whisper Trade Results! Bigge...   \n",
       "3565 2021-05-18 07:46:50  $T  new alert at https://t.co/A7qrDarJHY  #sto...   \n",
       "\n",
       "                                                cleaned  \n",
       "3569  $t $disca david zaslav stay discoveri ceo leas...  \n",
       "3568  didn\\xe2\\x80\\x99t realiz peopl refer $t safe i...  \n",
       "3567  read $t discoveri deal i\\xe2\\x80\\x99m dumbfoun...  \n",
       "3566  today' dark pool whisper trade results! bigges...  \n",
       "3565  $t new alert https://t.co/a7qrdarjhi #stock #d...  "
      ]
     },
     "execution_count": 29,
     "metadata": {},
     "output_type": "execute_result"
    }
   ],
   "source": [
    "df_ATT.head()"
   ]
  },
  {
   "cell_type": "code",
   "execution_count": 30,
   "metadata": {},
   "outputs": [],
   "source": [
    "def polar(x):\n",
    "    return TextBlob(x).sentiment.polarity"
   ]
  },
  {
   "cell_type": "code",
   "execution_count": 31,
   "metadata": {},
   "outputs": [],
   "source": [
    "df_ATT['sentiment'] = df_ATT.cleaned.apply(polar)"
   ]
  },
  {
   "cell_type": "code",
   "execution_count": 32,
   "metadata": {},
   "outputs": [
    {
     "data": {
      "text/html": [
       "<div>\n",
       "<style scoped>\n",
       "    .dataframe tbody tr th:only-of-type {\n",
       "        vertical-align: middle;\n",
       "    }\n",
       "\n",
       "    .dataframe tbody tr th {\n",
       "        vertical-align: top;\n",
       "    }\n",
       "\n",
       "    .dataframe thead th {\n",
       "        text-align: right;\n",
       "    }\n",
       "</style>\n",
       "<table border=\"1\" class=\"dataframe\">\n",
       "  <thead>\n",
       "    <tr style=\"text-align: right;\">\n",
       "      <th></th>\n",
       "      <th>timestamp</th>\n",
       "      <th>tweet</th>\n",
       "      <th>cleaned</th>\n",
       "      <th>sentiment</th>\n",
       "    </tr>\n",
       "  </thead>\n",
       "  <tbody>\n",
       "    <tr>\n",
       "      <th>3569</th>\n",
       "      <td>2021-05-18 07:45:30</td>\n",
       "      <td>$T $DISCA David Zaslav Will Stay On As Discove...</td>\n",
       "      <td>$t $disca david zaslav stay discoveri ceo leas...</td>\n",
       "      <td>-0.300000</td>\n",
       "    </tr>\n",
       "    <tr>\n",
       "      <th>3568</th>\n",
       "      <td>2021-05-18 07:45:49</td>\n",
       "      <td>@JSreng8 @BillBrewsterSCG @Balsikafi I didn\\xe...</td>\n",
       "      <td>didn\\xe2\\x80\\x99t realiz peopl refer $t safe i...</td>\n",
       "      <td>0.500000</td>\n",
       "    </tr>\n",
       "    <tr>\n",
       "      <th>3567</th>\n",
       "      <td>2021-05-18 07:45:50</td>\n",
       "      <td>The more I read about this $T discovery deal t...</td>\n",
       "      <td>read $t discoveri deal i\\xe2\\x80\\x99m dumbfoun...</td>\n",
       "      <td>0.000000</td>\n",
       "    </tr>\n",
       "    <tr>\n",
       "      <th>3566</th>\n",
       "      <td>2021-05-18 07:45:54</td>\n",
       "      <td>Today's Dark Pool Whisper Trade Results! Bigge...</td>\n",
       "      <td>today' dark pool whisper trade results! bigges...</td>\n",
       "      <td>-0.187500</td>\n",
       "    </tr>\n",
       "    <tr>\n",
       "      <th>3565</th>\n",
       "      <td>2021-05-18 07:46:50</td>\n",
       "      <td>$T  new alert at https://t.co/A7qrDarJHY  #sto...</td>\n",
       "      <td>$t new alert https://t.co/a7qrdarjhi #stock #d...</td>\n",
       "      <td>0.136364</td>\n",
       "    </tr>\n",
       "  </tbody>\n",
       "</table>\n",
       "</div>"
      ],
      "text/plain": [
       "               timestamp                                              tweet  \\\n",
       "3569 2021-05-18 07:45:30  $T $DISCA David Zaslav Will Stay On As Discove...   \n",
       "3568 2021-05-18 07:45:49  @JSreng8 @BillBrewsterSCG @Balsikafi I didn\\xe...   \n",
       "3567 2021-05-18 07:45:50  The more I read about this $T discovery deal t...   \n",
       "3566 2021-05-18 07:45:54  Today's Dark Pool Whisper Trade Results! Bigge...   \n",
       "3565 2021-05-18 07:46:50  $T  new alert at https://t.co/A7qrDarJHY  #sto...   \n",
       "\n",
       "                                                cleaned  sentiment  \n",
       "3569  $t $disca david zaslav stay discoveri ceo leas...  -0.300000  \n",
       "3568  didn\\xe2\\x80\\x99t realiz peopl refer $t safe i...   0.500000  \n",
       "3567  read $t discoveri deal i\\xe2\\x80\\x99m dumbfoun...   0.000000  \n",
       "3566  today' dark pool whisper trade results! bigges...  -0.187500  \n",
       "3565  $t new alert https://t.co/a7qrdarjhi #stock #d...   0.136364  "
      ]
     },
     "execution_count": 32,
     "metadata": {},
     "output_type": "execute_result"
    }
   ],
   "source": [
    "df_ATT.head()"
   ]
  },
  {
   "cell_type": "code",
   "execution_count": 33,
   "metadata": {},
   "outputs": [],
   "source": [
    "df_ATT2 = df_ATT.resample(rule='30Min',on='timestamp').mean()"
   ]
  },
  {
   "cell_type": "code",
   "execution_count": 34,
   "metadata": {},
   "outputs": [
    {
     "data": {
      "image/png": "[encoded data removed]",
      "text/plain": [
       "<Figure size 720x576 with 1 Axes>"
      ]
     },
     "metadata": {
      "needs_background": "light"
     },
     "output_type": "display_data"
    }
   ],
   "source": [
    "plt.figure(figsize=(10,8))\n",
    "plt.plot(df_ATT2.sentiment)\n",
    "plt.xlabel('Date'), plt.ylabel('Sentiment')\n",
    "sns.despine(right=True, top=True)\n",
    "plt.show()"
   ]
  },
  {
   "cell_type": "code",
   "execution_count": 35,
   "metadata": {},
   "outputs": [
    {
     "data": {
      "text/html": [
       "<div>\n",
       "<style scoped>\n",
       "    .dataframe tbody tr th:only-of-type {\n",
       "        vertical-align: middle;\n",
       "    }\n",
       "\n",
       "    .dataframe tbody tr th {\n",
       "        vertical-align: top;\n",
       "    }\n",
       "\n",
       "    .dataframe thead th {\n",
       "        text-align: right;\n",
       "    }\n",
       "</style>\n",
       "<table border=\"1\" class=\"dataframe\">\n",
       "  <thead>\n",
       "    <tr style=\"text-align: right;\">\n",
       "      <th></th>\n",
       "      <th>sentiment</th>\n",
       "    </tr>\n",
       "    <tr>\n",
       "      <th>timestamp</th>\n",
       "      <th></th>\n",
       "    </tr>\n",
       "  </thead>\n",
       "  <tbody>\n",
       "    <tr>\n",
       "      <th>2021-05-18 07:30:00</th>\n",
       "      <td>0.079309</td>\n",
       "    </tr>\n",
       "    <tr>\n",
       "      <th>2021-05-18 08:00:00</th>\n",
       "      <td>-0.011836</td>\n",
       "    </tr>\n",
       "    <tr>\n",
       "      <th>2021-05-18 08:30:00</th>\n",
       "      <td>0.109008</td>\n",
       "    </tr>\n",
       "    <tr>\n",
       "      <th>2021-05-18 09:00:00</th>\n",
       "      <td>0.062104</td>\n",
       "    </tr>\n",
       "    <tr>\n",
       "      <th>2021-05-18 09:30:00</th>\n",
       "      <td>0.075518</td>\n",
       "    </tr>\n",
       "  </tbody>\n",
       "</table>\n",
       "</div>"
      ],
      "text/plain": [
       "                     sentiment\n",
       "timestamp                     \n",
       "2021-05-18 07:30:00   0.079309\n",
       "2021-05-18 08:00:00  -0.011836\n",
       "2021-05-18 08:30:00   0.109008\n",
       "2021-05-18 09:00:00   0.062104\n",
       "2021-05-18 09:30:00   0.075518"
      ]
     },
     "execution_count": 35,
     "metadata": {},
     "output_type": "execute_result"
    }
   ],
   "source": [
    "df_ATT2.head()"
   ]
  },
  {
   "cell_type": "code",
   "execution_count": 36,
   "metadata": {},
   "outputs": [
    {
     "data": {
      "text/plain": [
       "363"
      ]
     },
     "execution_count": 36,
     "metadata": {},
     "output_type": "execute_result"
    }
   ],
   "source": [
    "df_ATT2.size"
   ]
  },
  {
   "cell_type": "code",
   "execution_count": 37,
   "metadata": {},
   "outputs": [],
   "source": [
    "df_ATTstock = pd.read_csv('AT&T stock.csv')"
   ]
  },
  {
   "cell_type": "code",
   "execution_count": 38,
   "metadata": {},
   "outputs": [],
   "source": [
    "df_ATTstock = pd.melt(df_ATTstock, id_vars='Time').rename(columns={'variable':'date', 'value':'price'})"
   ]
  },
  {
   "cell_type": "code",
   "execution_count": 39,
   "metadata": {},
   "outputs": [
    {
     "data": {
      "text/html": [
       "<div>\n",
       "<style scoped>\n",
       "    .dataframe tbody tr th:only-of-type {\n",
       "        vertical-align: middle;\n",
       "    }\n",
       "\n",
       "    .dataframe tbody tr th {\n",
       "        vertical-align: top;\n",
       "    }\n",
       "\n",
       "    .dataframe thead th {\n",
       "        text-align: right;\n",
       "    }\n",
       "</style>\n",
       "<table border=\"1\" class=\"dataframe\">\n",
       "  <thead>\n",
       "    <tr style=\"text-align: right;\">\n",
       "      <th></th>\n",
       "      <th>Time</th>\n",
       "      <th>date</th>\n",
       "      <th>price</th>\n",
       "    </tr>\n",
       "  </thead>\n",
       "  <tbody>\n",
       "    <tr>\n",
       "      <th>0</th>\n",
       "      <td>9:30:00</td>\n",
       "      <td>10/5/2021</td>\n",
       "      <td>$32.43</td>\n",
       "    </tr>\n",
       "    <tr>\n",
       "      <th>1</th>\n",
       "      <td>10:00:00</td>\n",
       "      <td>10/5/2021</td>\n",
       "      <td>$32.67</td>\n",
       "    </tr>\n",
       "    <tr>\n",
       "      <th>2</th>\n",
       "      <td>10:30:00</td>\n",
       "      <td>10/5/2021</td>\n",
       "      <td>$32.66</td>\n",
       "    </tr>\n",
       "    <tr>\n",
       "      <th>3</th>\n",
       "      <td>11:00:00</td>\n",
       "      <td>10/5/2021</td>\n",
       "      <td>$32.78</td>\n",
       "    </tr>\n",
       "    <tr>\n",
       "      <th>4</th>\n",
       "      <td>11:30:00</td>\n",
       "      <td>10/5/2021</td>\n",
       "      <td>$32.86</td>\n",
       "    </tr>\n",
       "  </tbody>\n",
       "</table>\n",
       "</div>"
      ],
      "text/plain": [
       "       Time       date    price\n",
       "0   9:30:00  10/5/2021  $32.43 \n",
       "1  10:00:00  10/5/2021  $32.67 \n",
       "2  10:30:00  10/5/2021  $32.66 \n",
       "3  11:00:00  10/5/2021  $32.78 \n",
       "4  11:30:00  10/5/2021  $32.86 "
      ]
     },
     "execution_count": 39,
     "metadata": {},
     "output_type": "execute_result"
    }
   ],
   "source": [
    "df_ATTstock.head()"
   ]
  },
  {
   "cell_type": "code",
   "execution_count": 40,
   "metadata": {},
   "outputs": [
    {
     "data": {
      "text/plain": [
       "Time     object\n",
       "date     object\n",
       "price    object\n",
       "dtype: object"
      ]
     },
     "execution_count": 40,
     "metadata": {},
     "output_type": "execute_result"
    }
   ],
   "source": [
    "df_ATTstock.dtypes"
   ]
  },
  {
   "cell_type": "code",
   "execution_count": 41,
   "metadata": {},
   "outputs": [],
   "source": [
    "df_ATTstock['timestamp'] = df_ATTstock.date.astype(str) + ' ' + df_ATTstock.Time.astype(str)"
   ]
  },
  {
   "cell_type": "code",
   "execution_count": 42,
   "metadata": {},
   "outputs": [],
   "source": [
    "df_ATTstock.timestamp = pd.to_datetime(df_ATTstock.timestamp)"
   ]
  },
  {
   "cell_type": "code",
   "execution_count": 44,
   "metadata": {},
   "outputs": [],
   "source": [
    "df_ATTstock = df_ATTstock.drop(['Time', 'date'], axis=1)"
   ]
  },
  {
   "cell_type": "code",
   "execution_count": 45,
   "metadata": {},
   "outputs": [
    {
     "data": {
      "text/html": [
       "<div>\n",
       "<style scoped>\n",
       "    .dataframe tbody tr th:only-of-type {\n",
       "        vertical-align: middle;\n",
       "    }\n",
       "\n",
       "    .dataframe tbody tr th {\n",
       "        vertical-align: top;\n",
       "    }\n",
       "\n",
       "    .dataframe thead th {\n",
       "        text-align: right;\n",
       "    }\n",
       "</style>\n",
       "<table border=\"1\" class=\"dataframe\">\n",
       "  <thead>\n",
       "    <tr style=\"text-align: right;\">\n",
       "      <th></th>\n",
       "      <th>price</th>\n",
       "      <th>timestamp</th>\n",
       "    </tr>\n",
       "  </thead>\n",
       "  <tbody>\n",
       "    <tr>\n",
       "      <th>0</th>\n",
       "      <td>$32.43</td>\n",
       "      <td>2021-10-05 09:30:00</td>\n",
       "    </tr>\n",
       "    <tr>\n",
       "      <th>1</th>\n",
       "      <td>$32.67</td>\n",
       "      <td>2021-10-05 10:00:00</td>\n",
       "    </tr>\n",
       "    <tr>\n",
       "      <th>2</th>\n",
       "      <td>$32.66</td>\n",
       "      <td>2021-10-05 10:30:00</td>\n",
       "    </tr>\n",
       "    <tr>\n",
       "      <th>3</th>\n",
       "      <td>$32.78</td>\n",
       "      <td>2021-10-05 11:00:00</td>\n",
       "    </tr>\n",
       "    <tr>\n",
       "      <th>4</th>\n",
       "      <td>$32.86</td>\n",
       "      <td>2021-10-05 11:30:00</td>\n",
       "    </tr>\n",
       "  </tbody>\n",
       "</table>\n",
       "</div>"
      ],
      "text/plain": [
       "     price           timestamp\n",
       "0  $32.43  2021-10-05 09:30:00\n",
       "1  $32.67  2021-10-05 10:00:00\n",
       "2  $32.66  2021-10-05 10:30:00\n",
       "3  $32.78  2021-10-05 11:00:00\n",
       "4  $32.86  2021-10-05 11:30:00"
      ]
     },
     "execution_count": 45,
     "metadata": {},
     "output_type": "execute_result"
    }
   ],
   "source": [
    "df_ATTstock.head()"
   ]
  },
  {
   "cell_type": "code",
   "execution_count": 46,
   "metadata": {},
   "outputs": [
    {
     "data": {
      "text/html": [
       "<div>\n",
       "<style scoped>\n",
       "    .dataframe tbody tr th:only-of-type {\n",
       "        vertical-align: middle;\n",
       "    }\n",
       "\n",
       "    .dataframe tbody tr th {\n",
       "        vertical-align: top;\n",
       "    }\n",
       "\n",
       "    .dataframe thead th {\n",
       "        text-align: right;\n",
       "    }\n",
       "</style>\n",
       "<table border=\"1\" class=\"dataframe\">\n",
       "  <thead>\n",
       "    <tr style=\"text-align: right;\">\n",
       "      <th></th>\n",
       "      <th>sentiment</th>\n",
       "    </tr>\n",
       "    <tr>\n",
       "      <th>timestamp</th>\n",
       "      <th></th>\n",
       "    </tr>\n",
       "  </thead>\n",
       "  <tbody>\n",
       "    <tr>\n",
       "      <th>2021-05-18 07:30:00</th>\n",
       "      <td>0.079309</td>\n",
       "    </tr>\n",
       "    <tr>\n",
       "      <th>2021-05-18 08:00:00</th>\n",
       "      <td>-0.011836</td>\n",
       "    </tr>\n",
       "    <tr>\n",
       "      <th>2021-05-18 08:30:00</th>\n",
       "      <td>0.109008</td>\n",
       "    </tr>\n",
       "    <tr>\n",
       "      <th>2021-05-18 09:00:00</th>\n",
       "      <td>0.062104</td>\n",
       "    </tr>\n",
       "    <tr>\n",
       "      <th>2021-05-18 09:30:00</th>\n",
       "      <td>0.075518</td>\n",
       "    </tr>\n",
       "  </tbody>\n",
       "</table>\n",
       "</div>"
      ],
      "text/plain": [
       "                     sentiment\n",
       "timestamp                     \n",
       "2021-05-18 07:30:00   0.079309\n",
       "2021-05-18 08:00:00  -0.011836\n",
       "2021-05-18 08:30:00   0.109008\n",
       "2021-05-18 09:00:00   0.062104\n",
       "2021-05-18 09:30:00   0.075518"
      ]
     },
     "execution_count": 46,
     "metadata": {},
     "output_type": "execute_result"
    }
   ],
   "source": [
    "df_ATT2.head()"
   ]
  },
  {
   "cell_type": "code",
   "execution_count": null,
   "metadata": {},
   "outputs": [],
   "source": []
  }
 ],
 "metadata": {
  "kernelspec": {
   "display_name": "Python 3",
   "language": "python",
   "name": "python3"
  },
  "language_info": {
   "codemirror_mode": {
    "name": "ipython",
    "version": 3
   },
   "file_extension": ".py",
   "mimetype": "text/x-python",
   "name": "python",
   "nbconvert_exporter": "python",
   "pygments_lexer": "ipython3",
   "version": "3.8.5"
  }
 },
 "nbformat": 4,
 "nbformat_minor": 4
}
